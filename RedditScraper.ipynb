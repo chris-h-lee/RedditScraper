{
 "cells": [
  {
   "cell_type": "code",
   "execution_count": null,
   "metadata": {},
   "outputs": [],
   "source": [
    "!pip install selenium"
   ]
  },
  {
   "cell_type": "code",
   "execution_count": null,
   "metadata": {},
   "outputs": [],
   "source": [
    "import requests\n",
    "import bs4 as bs\n",
    "from selenium import webdriver\n",
    "import time"
   ]
  },
  {
   "cell_type": "code",
   "execution_count": null,
   "metadata": {},
   "outputs": [],
   "source": [
    "#'searchWord' is the key phrase to look for\n",
    "#'url' is the subreddit to search\n",
    "\n",
    "searchWord = \"broly\"\n",
    "url = \"https://www.reddit.com/r/DBZDokkanBattle/\""
   ]
  },
  {
   "cell_type": "code",
   "execution_count": null,
   "metadata": {},
   "outputs": [],
   "source": [
    "options = webdriver.ChromeOptions()\n",
    "options.add_argument('--headless')\n",
    "driver = webdriver.Chrome(executable_path=\"./chromedriver.exe\", options = options)\n",
    "driver.get(url)"
   ]
  },
  {
   "cell_type": "code",
   "execution_count": null,
   "metadata": {},
   "outputs": [],
   "source": [
    "page = driver.execute_script('return document.body.innerHTML')\n",
    "soup = bs.BeautifulSoup(''.join(page), 'html.parser')"
   ]
  },
  {
   "cell_type": "code",
   "execution_count": null,
   "metadata": {},
   "outputs": [],
   "source": [
    "#Finds all reddit posts with the key phrase in the title\n",
    "\n",
    "print(\"Starting...\")\n",
    "thing = {\"place_holder\"}\n",
    "count = 0\n",
    "for nurl in soup.find_all('a'):\n",
    "    ref = nurl.get('href')\n",
    "    if ref:\n",
    "        lurl = ref.lower()\n",
    "        if lurl.find(searchWord.lower()) != -1 and lurl.find(\"https://www.reddit.com/\") != -1:\n",
    "            thing.add(ref)\n",
    "            count += 1\n",
    "print(\"Total results: \" + str(len(thing)-1))"
   ]
  },
  {
   "cell_type": "code",
   "execution_count": null,
   "metadata": {},
   "outputs": [],
   "source": [
    "#Go through each post and ask the user if they want to scrape all comments/text\n",
    "#Type 'y' to scrape post, 'stop' to stop the process, and anything else to skip to the next post\n",
    "\n",
    "for x in thing:\n",
    "    if x == \"place_holder\":\n",
    "        continue\n",
    "    inp = input(\"The next post is \"+ x + \". Type 'y' to continue or 'stop' to stop: \")\n",
    "    if inp == \"y\":\n",
    "        driver.get(x)\n",
    "        page = driver.execute_script('return document.body.innerHTML')\n",
    "        soup = bs.BeautifulSoup(''.join(page), 'html.parser')\n",
    "        for nurl in soup.find_all('p'):\n",
    "            print(nurl.text)\n",
    "    elif inp == \"stop\":\n",
    "        break"
   ]
  },
  {
   "cell_type": "code",
   "execution_count": null,
   "metadata": {},
   "outputs": [],
   "source": []
  },
  {
   "cell_type": "code",
   "execution_count": null,
   "metadata": {},
   "outputs": [],
   "source": []
  }
 ],
 "metadata": {
  "kernelspec": {
   "display_name": "Python 3",
   "language": "python",
   "name": "python3"
  },
  "language_info": {
   "codemirror_mode": {
    "name": "ipython",
    "version": 3
   },
   "file_extension": ".py",
   "mimetype": "text/x-python",
   "name": "python",
   "nbconvert_exporter": "python",
   "pygments_lexer": "ipython3",
   "version": "3.7.3"
  }
 },
 "nbformat": 4,
 "nbformat_minor": 2
}
